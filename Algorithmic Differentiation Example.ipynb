{
 "cells": [
  {
   "cell_type": "markdown",
   "metadata": {},
   "source": [
    "$$f(x) = \\frac{e^x}{\\sqrt{\\sin^3{x} + \\cos^3{x}}}$$\n",
    "\n",
    "Sequence of Operations:\n",
    "\n",
    "$v_1 = x$\n",
    "\n",
    "$v_2 = e^x$\n",
    "\n",
    "$v_3 = \\sin{x}$\n",
    "\n",
    "$v_4 = \\cos{x}$\n",
    "\n",
    "$v_5 = (v_3)^3$\n",
    "\n",
    "$v_6 = (v_4)^3$\n",
    "\n",
    "$v_7 = v_5 + v_6$\n",
    "\n",
    "$v_8 = \\sqrt{v_7}$\n",
    "\n",
    "$v_9 = \\frac{v_2}{v_8}$\n",
    "\n",
    "Derivatives:\n",
    "\n",
    "$\\frac{\\partial v_1}{\\partial v_1} = 1$\n",
    "\n",
    "$\\frac{\\partial v_2}{\\partial v_1} = e^{v_1} \\frac{\\partial v_1}{\\partial v_1}$\n",
    "\n",
    "$\\frac{\\partial v_3}{\\partial v_1} = \\cos{v_1} \\frac{\\partial v_1}{\\partial v_1}$\n",
    "\n",
    "$\\frac{\\partial v_4}{\\partial v_1} = -\\sin{v_1} \\frac{\\partial v_1}{\\partial v_1}$\n",
    "\n",
    "$\\frac{\\partial v_5}{\\partial v_1} = 3v_3^2 \\frac{\\partial v_3}{\\partial v_1}$\n",
    "\n",
    "$\\frac{\\partial v_6}{\\partial v_1} = 3v_4^2 \\frac{\\partial v_4}{\\partial v_1}$\n",
    "\n",
    "$\\frac{\\partial v_7}{\\partial v_1} = \\frac{\\partial v_5}{\\partial v_1} + \\frac{\\partial v_6}{\\partial v_1}$\n",
    "\n",
    "and on and on ..."
   ]
  },
  {
   "cell_type": "code",
   "execution_count": null,
   "metadata": {},
   "outputs": [],
   "source": []
  }
 ],
 "metadata": {
  "kernelspec": {
   "display_name": "Python 3",
   "language": "python",
   "name": "python3"
  },
  "language_info": {
   "codemirror_mode": {
    "name": "ipython",
    "version": 3
   },
   "file_extension": ".py",
   "mimetype": "text/x-python",
   "name": "python",
   "nbconvert_exporter": "python",
   "pygments_lexer": "ipython3",
   "version": "3.8.5"
  },
  "latex_envs": {
   "LaTeX_envs_menu_present": true,
   "autoclose": true,
   "autocomplete": true,
   "bibliofile": "biblio.bib",
   "cite_by": "apalike",
   "current_citInitial": 1,
   "eqLabelWithNumbers": true,
   "eqNumInitial": 1,
   "hotkeys": {
    "equation": "Ctrl-E",
    "itemize": "Ctrl-I"
   },
   "labels_anchors": false,
   "latex_user_defs": false,
   "report_style_numbering": false,
   "user_envs_cfg": false
  },
  "varInspector": {
   "cols": {
    "lenName": 16,
    "lenType": 16,
    "lenVar": 40
   },
   "kernels_config": {
    "python": {
     "delete_cmd_postfix": "",
     "delete_cmd_prefix": "del ",
     "library": "var_list.py",
     "varRefreshCmd": "print(var_dic_list())"
    },
    "r": {
     "delete_cmd_postfix": ") ",
     "delete_cmd_prefix": "rm(",
     "library": "var_list.r",
     "varRefreshCmd": "cat(var_dic_list()) "
    }
   },
   "types_to_exclude": [
    "module",
    "function",
    "builtin_function_or_method",
    "instance",
    "_Feature"
   ],
   "window_display": false
  }
 },
 "nbformat": 4,
 "nbformat_minor": 4
}
