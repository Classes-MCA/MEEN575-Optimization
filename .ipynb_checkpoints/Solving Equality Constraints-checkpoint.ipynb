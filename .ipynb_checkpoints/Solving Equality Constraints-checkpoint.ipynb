{
 "cells": [
  {
   "cell_type": "markdown",
   "metadata": {},
   "source": [
    "Minimize: $x^2 - 8x + y^2 -12y + 48$\n",
    "\n",
    "Subject to: $x+y = 8$\n",
    "\n",
    "---\n",
    "\n",
    "Use the lagrangian:\n",
    "\n",
    "$L(x,y,\\lambda) = f(x) + \\lambda^T h(x,y)$\n",
    "\n",
    "$L = x^2 - 8x + y^2 -12y + 48 + \\lambda (x+y-8)$\n",
    "\n",
    "Take derivatives\n",
    "\n",
    "$\\frac{\\partial L}{\\partial x} = 2x - 8 + \\lambda = 0$\n",
    "\n",
    "$\\frac{\\partial L}{\\partial y} = 2y - 12 + \\lambda = 0$\n",
    "\n",
    "$\\frac{\\partial L}{\\partial \\lambda} = x + y - 8 = 0$\n",
    "\n",
    "If the system is nonlinear, then use Newton's method to solve for the unknowns."
   ]
  },
  {
   "cell_type": "markdown",
   "metadata": {},
   "source": [
    "## Next Problem"
   ]
  },
  {
   "cell_type": "markdown",
   "metadata": {},
   "source": [
    "Minimize $x_1^2 - x_2$\n",
    "\n",
    "Subject to: $x_2 - 2x_1 \\leq 0; 1 - x_1 - x_2 \\leq 0$\n",
    "\n",
    "---\n",
    "\n",
    "Use the Lagrangian again\n",
    "\n",
    "$L(x,y,\\lambda) = f(x) + \\lambda^T h(x,y)$\n",
    "\n",
    "$L = x_1^2 - x_2 + x_2 - 2x_1 + 1 - x_1 - x_2$"
   ]
  }
 ],
 "metadata": {
  "kernelspec": {
   "display_name": "Python 3",
   "language": "python",
   "name": "python3"
  },
  "language_info": {
   "codemirror_mode": {
    "name": "ipython",
    "version": 3
   },
   "file_extension": ".py",
   "mimetype": "text/x-python",
   "name": "python",
   "nbconvert_exporter": "python",
   "pygments_lexer": "ipython3",
   "version": "3.8.5"
  },
  "latex_envs": {
   "LaTeX_envs_menu_present": true,
   "autoclose": true,
   "autocomplete": true,
   "bibliofile": "biblio.bib",
   "cite_by": "apalike",
   "current_citInitial": 1,
   "eqLabelWithNumbers": true,
   "eqNumInitial": 1,
   "hotkeys": {
    "equation": "Ctrl-E",
    "itemize": "Ctrl-I"
   },
   "labels_anchors": false,
   "latex_user_defs": false,
   "report_style_numbering": false,
   "user_envs_cfg": false
  },
  "varInspector": {
   "cols": {
    "lenName": 16,
    "lenType": 16,
    "lenVar": 40
   },
   "kernels_config": {
    "python": {
     "delete_cmd_postfix": "",
     "delete_cmd_prefix": "del ",
     "library": "var_list.py",
     "varRefreshCmd": "print(var_dic_list())"
    },
    "r": {
     "delete_cmd_postfix": ") ",
     "delete_cmd_prefix": "rm(",
     "library": "var_list.r",
     "varRefreshCmd": "cat(var_dic_list()) "
    }
   },
   "types_to_exclude": [
    "module",
    "function",
    "builtin_function_or_method",
    "instance",
    "_Feature"
   ],
   "window_display": false
  }
 },
 "nbformat": 4,
 "nbformat_minor": 4
}
