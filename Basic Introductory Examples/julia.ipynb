{
 "cells": [
  {
   "cell_type": "code",
   "execution_count": 12,
   "metadata": {},
   "outputs": [
    {
     "name": "stderr",
     "output_type": "stream",
     "text": [
      "\u001b[32m\u001b[1m  Resolving\u001b[22m\u001b[39m package versions...\n",
      "\u001b[32m\u001b[1mNo Changes\u001b[22m\u001b[39m to `~/.julia/environments/v1.5/Project.toml`\n",
      "\u001b[32m\u001b[1mNo Changes\u001b[22m\u001b[39m to `~/.julia/environments/v1.5/Manifest.toml`\n",
      "\u001b[32m\u001b[1m  Resolving\u001b[22m\u001b[39m package versions...\n",
      "\u001b[32m\u001b[1mNo Changes\u001b[22m\u001b[39m to `~/.julia/environments/v1.5/Project.toml`\n",
      "\u001b[32m\u001b[1mNo Changes\u001b[22m\u001b[39m to `~/.julia/environments/v1.5/Manifest.toml`\n"
     ]
    }
   ],
   "source": [
    "using Pkg\n",
    "Pkg.add(\"NLPModels\")\n",
    "Pkg.add(\"NLPModelsIpopt\")"
   ]
  },
  {
   "cell_type": "code",
   "execution_count": 13,
   "metadata": {},
   "outputs": [
    {
     "name": "stderr",
     "output_type": "stream",
     "text": [
      "┌ Info: Precompiling NLPModelsIpopt [f4238b75-b362-5c4c-b852-0801c9a21d71]\n",
      "└ @ Base loading.jl:1278\n"
     ]
    }
   ],
   "source": [
    "using NLPModels\n",
    "using NLPModelsIpopt"
   ]
  },
  {
   "cell_type": "code",
   "execution_count": 3,
   "metadata": {},
   "outputs": [
    {
     "data": {
      "text/plain": [
       "myobj (generic function with 1 method)"
      ]
     },
     "execution_count": 3,
     "metadata": {},
     "output_type": "execute_result"
    }
   ],
   "source": [
    "function myobj(x)\n",
    "    \n",
    "    f = (1 - x[1])^2 + 100*(x[2] - x[1]^2)^2;\n",
    "    \n",
    "    return f\n",
    "end"
   ]
  },
  {
   "cell_type": "markdown",
   "metadata": {},
   "source": [
    "# Unconstrained"
   ]
  },
  {
   "cell_type": "code",
   "execution_count": 15,
   "metadata": {},
   "outputs": [
    {
     "name": "stdout",
     "output_type": "stream",
     "text": [
      "This is Ipopt version 3.13.2, running with linear solver mumps.\n",
      "NOTE: Other linear solvers might be more efficient (see Ipopt documentation).\n",
      "\n",
      "Number of nonzeros in equality constraint Jacobian...:        0\n",
      "Number of nonzeros in inequality constraint Jacobian.:        0\n",
      "Number of nonzeros in Lagrangian Hessian.............:        3\n",
      "\n",
      "Total number of variables............................:        2\n",
      "                     variables with only lower bounds:        0\n",
      "                variables with lower and upper bounds:        0\n",
      "                     variables with only upper bounds:        0\n",
      "Total number of equality constraints.................:        0\n",
      "Total number of inequality constraints...............:        0\n",
      "        inequality constraints with only lower bounds:        0\n",
      "   inequality constraints with lower and upper bounds:        0\n",
      "        inequality constraints with only upper bounds:        0\n",
      "\n",
      "iter    objective    inf_pr   inf_du lg(mu)  ||d||  lg(rg) alpha_du alpha_pr  ls\n",
      "   0  3.6040000e+03 0.00e+00 1.00e+02  -1.0 0.00e+00    -  0.00e+00 0.00e+00   0\n",
      "   1  3.9933417e+00 0.00e+00 5.55e-02  -1.0 5.99e+00    -  1.00e+00 1.00e+00f  1\n",
      "   2  3.4463798e+00 0.00e+00 1.00e+00  -2.5 1.20e+01    -  1.00e+00 1.25e-01f  4\n",
      "   3  2.6490196e+00 0.00e+00 2.90e-01  -2.5 6.52e-01    -  1.00e+00 1.00e+00f  1\n",
      "   4  2.2378333e+00 0.00e+00 6.17e-01  -2.5 1.92e+00    -  1.00e+00 5.00e-01f  2\n",
      "   5  1.6981915e+00 0.00e+00 3.22e-01  -2.5 6.89e-01    -  1.00e+00 1.00e+00f  1\n",
      "   6  1.3968869e+00 0.00e+00 6.45e-01  -2.5 1.04e+00    -  1.00e+00 1.00e+00f  1\n",
      "   7  9.3154395e-01 0.00e+00 1.13e-01  -2.5 3.11e-01    -  1.00e+00 1.00e+00f  1\n",
      "   8  7.5111871e-01 0.00e+00 4.03e-01  -2.5 1.45e+00    -  1.00e+00 5.00e-01f  2\n",
      "   9  4.7789453e-01 0.00e+00 9.29e-02  -2.5 2.77e-01    -  1.00e+00 1.00e+00f  1\n",
      "iter    objective    inf_pr   inf_du lg(mu)  ||d||  lg(rg) alpha_du alpha_pr  ls\n",
      "  10  3.5348351e-01 0.00e+00 2.03e-01  -2.5 8.91e-01    -  1.00e+00 5.00e-01f  2\n",
      "  11  2.1392147e-01 0.00e+00 9.89e-02  -2.5 3.00e-01    -  1.00e+00 1.00e+00f  1\n",
      "  12  1.3594256e-01 0.00e+00 1.57e-01  -2.5 4.04e-01    -  1.00e+00 1.00e+00f  1\n",
      "  13  6.2136608e-02 0.00e+00 3.21e-02  -2.5 1.37e-01    -  1.00e+00 1.00e+00f  1\n",
      "  14  5.2201817e-02 0.00e+00 1.28e-01  -2.5 3.52e-01    -  1.00e+00 1.00e+00f  1\n",
      "  15  6.9812793e-03 0.00e+00 4.85e-03  -2.5 2.49e-02    -  1.00e+00 1.00e+00f  1\n",
      "  16  3.5524339e-03 0.00e+00 3.33e-02  -3.8 1.66e-01    -  1.00e+00 1.00e+00f  1\n",
      "  17  1.2336677e-05 0.00e+00 1.46e-04  -3.8 2.96e-03    -  1.00e+00 1.00e+00f  1\n",
      "  18  1.5131928e-08 0.00e+00 6.84e-05  -5.7 7.03e-03    -  1.00e+00 1.00e+00f  1\n",
      "  19  2.2775048e-16 0.00e+00 6.28e-10  -5.7 6.14e-06    -  1.00e+00 1.00e+00f  1\n",
      "\n",
      "Number of Iterations....: 19\n",
      "\n",
      "                                   (scaled)                 (unscaled)\n",
      "Objective...............:   3.1614447842059080e-18    2.2775048225419362e-16\n",
      "Dual infeasibility......:   6.2816082468422472e-10    4.5252705810251551e-08\n",
      "Constraint violation....:   0.0000000000000000e+00    0.0000000000000000e+00\n",
      "Complementarity.........:   0.0000000000000000e+00    0.0000000000000000e+00\n",
      "Overall NLP error.......:   6.2816082468422472e-10    4.5252705810251551e-08\n",
      "\n",
      "\n",
      "Number of objective function evaluations             = 42\n",
      "Number of objective gradient evaluations             = 20\n",
      "Number of equality constraint evaluations            = 0\n",
      "Number of inequality constraint evaluations          = 0\n",
      "Number of equality constraint Jacobian evaluations   = 0\n",
      "Number of inequality constraint Jacobian evaluations = 0\n",
      "Number of Lagrangian Hessian evaluations             = 19\n",
      "Total CPU secs in IPOPT (w/o function evaluations)   =      0.033\n",
      "Total CPU secs in NLP function evaluations           =      0.002\n",
      "\n",
      "EXIT: Optimal Solution Found.\n"
     ]
    },
    {
     "data": {
      "text/plain": [
       "2.277504822541936e-16"
      ]
     },
     "execution_count": 15,
     "metadata": {},
     "output_type": "execute_result"
    }
   ],
   "source": [
    "x0 = [3.0, 3.0];\n",
    "\n",
    "model = ADNLPModel(myobj, x0)\n",
    "output = ipopt(model)\n",
    "xstar = output.solution\n",
    "fstar = output.objective"
   ]
  },
  {
   "cell_type": "markdown",
   "metadata": {},
   "source": [
    "# Unconstrained"
   ]
  },
  {
   "cell_type": "code",
   "execution_count": 17,
   "metadata": {},
   "outputs": [
    {
     "name": "stdout",
     "output_type": "stream",
     "text": [
      "This is Ipopt version 3.13.2, running with linear solver mumps.\n",
      "NOTE: Other linear solvers might be more efficient (see Ipopt documentation).\n",
      "\n",
      "Number of nonzeros in equality constraint Jacobian...:        0\n",
      "Number of nonzeros in inequality constraint Jacobian.:        4\n",
      "Number of nonzeros in Lagrangian Hessian.............:        3\n",
      "\n",
      "Total number of variables............................:        2\n",
      "                     variables with only lower bounds:        0\n",
      "                variables with lower and upper bounds:        0\n",
      "                     variables with only upper bounds:        0\n",
      "Total number of equality constraints.................:        0\n",
      "Total number of inequality constraints...............:        2\n",
      "        inequality constraints with only lower bounds:        0\n",
      "   inequality constraints with lower and upper bounds:        0\n",
      "        inequality constraints with only upper bounds:        2\n",
      "\n",
      "iter    objective    inf_pr   inf_du lg(mu)  ||d||  lg(rg) alpha_du alpha_pr  ls\n",
      "   0  3.6040000e+03 1.70e+01 3.60e+01  -1.0 0.00e+00    -  0.00e+00 0.00e+00   0\n",
      "   1  1.8179017e+03 4.88e+00 3.79e+01  -1.0 2.13e+00    -  8.63e-02 1.00e+00f  1\n",
      "   2  1.3937772e+03 4.49e+00 3.32e+01  -1.0 1.75e+00    -  1.00e+00 1.22e-01f  1\n",
      "   3  1.4554486e+01 1.45e+00 6.89e+00  -1.0 1.22e+00    -  3.75e-01 1.00e+00f  1\n",
      "   4  6.4355455e+00 1.67e-01 4.38e+00  -1.0 1.59e+00    -  1.00e+00 1.00e+00h  1\n",
      "   5  9.0884941e-01 0.00e+00 5.79e-01  -1.0 5.38e-01    -  9.59e-01 1.00e+00h  1\n",
      "   6  7.3093805e-02 0.00e+00 4.21e-02  -1.7 2.26e-01    -  1.00e+00 1.00e+00h  1\n",
      "   7  1.2549268e-01 0.00e+00 2.14e-02  -2.5 4.37e-01    -  9.66e-01 1.00e+00h  1\n",
      "   8  8.9621044e-02 0.00e+00 7.74e-03  -3.8 2.63e-01    -  1.00e+00 1.00e+00h  1\n",
      "   9  6.0572534e-02 0.00e+00 1.15e-02  -3.8 2.90e-01    -  1.00e+00 1.00e+00h  1\n",
      "iter    objective    inf_pr   inf_du lg(mu)  ||d||  lg(rg) alpha_du alpha_pr  ls\n",
      "  10  5.6020213e-02 0.00e+00 1.24e-04  -3.8 4.61e-02    -  1.00e+00 1.00e+00h  1\n",
      "  11  4.6480418e-02 0.00e+00 1.95e-03  -5.7 1.19e-01    -  1.00e+00 1.00e+00h  1\n",
      "  12  4.5808080e-02 0.00e+00 5.14e-06  -5.7 9.13e-03    -  1.00e+00 1.00e+00h  1\n",
      "  13  4.5675073e-02 0.00e+00 4.14e-07  -8.6 1.78e-03    -  1.00e+00 1.00e+00h  1\n",
      "  14  4.5674988e-02 0.00e+00 7.46e-14  -8.6 1.23e-06    -  1.00e+00 1.00e+00h  1\n",
      "\n",
      "Number of Iterations....: 14\n",
      "\n",
      "                                   (scaled)                 (unscaled)\n",
      "Objective...............:   6.3402259896763410e-04    4.5674988029628362e-02\n",
      "Dual infeasibility......:   7.4647319575626980e-14    5.3775929022281685e-12\n",
      "Constraint violation....:   0.0000000000000000e+00    0.0000000000000000e+00\n",
      "Complementarity.........:   2.5059042935257110e-09    1.8052534530559222e-07\n",
      "Overall NLP error.......:   2.5059042935257110e-09    1.8052534530559222e-07\n",
      "\n",
      "\n",
      "Number of objective function evaluations             = 15\n",
      "Number of objective gradient evaluations             = 15\n",
      "Number of equality constraint evaluations            = 0\n",
      "Number of inequality constraint evaluations          = 15\n",
      "Number of equality constraint Jacobian evaluations   = 0\n",
      "Number of inequality constraint Jacobian evaluations = 15\n",
      "Number of Lagrangian Hessian evaluations             = 14\n",
      "Total CPU secs in IPOPT (w/o function evaluations)   =      0.043\n",
      "Total CPU secs in NLP function evaluations           =      0.058\n",
      "\n",
      "EXIT: Optimal Solution Found.\n"
     ]
    },
    {
     "data": {
      "text/plain": [
       "0.04567498802962836"
      ]
     },
     "execution_count": 17,
     "metadata": {},
     "output_type": "execute_result"
    }
   ],
   "source": [
    "mycon(x) = [x[1]^2 + x[2]^2 - 1; x[1] + 3*x[2] - 5]; # Just a different way to define a\n",
    "                                                     # simple function\n",
    "\n",
    "model = ADNLPModel(myobj, x0, mycon, [-Inf, -Inf],[0.0, 0.0]) # Includes lower and upper\n",
    "                                                              # bounds for constraints\n",
    "output = ipopt(model)\n",
    "xstar = output.solution\n",
    "fstar = output.objective"
   ]
  },
  {
   "cell_type": "code",
   "execution_count": null,
   "metadata": {},
   "outputs": [],
   "source": []
  }
 ],
 "metadata": {
  "kernelspec": {
   "display_name": "Julia 1.5.3",
   "language": "julia",
   "name": "julia-1.5"
  },
  "language_info": {
   "file_extension": ".jl",
   "mimetype": "application/julia",
   "name": "julia",
   "version": "1.5.3"
  },
  "latex_envs": {
   "LaTeX_envs_menu_present": true,
   "autoclose": true,
   "autocomplete": true,
   "bibliofile": "biblio.bib",
   "cite_by": "apalike",
   "current_citInitial": 1,
   "eqLabelWithNumbers": true,
   "eqNumInitial": 1,
   "hotkeys": {
    "equation": "Ctrl-E",
    "itemize": "Ctrl-I"
   },
   "labels_anchors": false,
   "latex_user_defs": false,
   "report_style_numbering": false,
   "user_envs_cfg": false
  },
  "toc": {
   "base_numbering": 1,
   "nav_menu": {},
   "number_sections": true,
   "sideBar": true,
   "skip_h1_title": false,
   "title_cell": "Table of Contents",
   "title_sidebar": "Contents",
   "toc_cell": false,
   "toc_position": {},
   "toc_section_display": true,
   "toc_window_display": false
  },
  "varInspector": {
   "cols": {
    "lenName": 16,
    "lenType": 16,
    "lenVar": 40
   },
   "kernels_config": {
    "python": {
     "delete_cmd_postfix": "",
     "delete_cmd_prefix": "del ",
     "library": "var_list.py",
     "varRefreshCmd": "print(var_dic_list())"
    },
    "r": {
     "delete_cmd_postfix": ") ",
     "delete_cmd_prefix": "rm(",
     "library": "var_list.r",
     "varRefreshCmd": "cat(var_dic_list()) "
    }
   },
   "types_to_exclude": [
    "module",
    "function",
    "builtin_function_or_method",
    "instance",
    "_Feature"
   ],
   "window_display": false
  }
 },
 "nbformat": 4,
 "nbformat_minor": 4
}
