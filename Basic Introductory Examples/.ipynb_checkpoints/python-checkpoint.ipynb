{
 "cells": [
  {
   "cell_type": "code",
   "execution_count": 11,
   "metadata": {},
   "outputs": [],
   "source": [
    "import numpy as np\n",
    "from scipy.optimize import minimize\n",
    "\n",
    "def obj(x):\n",
    "    return (1 - x[0])**2 + 100*(x[1] - x[0]**2)**2"
   ]
  },
  {
   "cell_type": "markdown",
   "metadata": {},
   "source": [
    "# Unconstrained"
   ]
  },
  {
   "cell_type": "code",
   "execution_count": 10,
   "metadata": {},
   "outputs": [
    {
     "name": "stdout",
     "output_type": "stream",
     "text": [
      "[0.99999637 0.99999286]\n",
      "1.485624973587636e-11\n",
      "False\n"
     ]
    },
    {
     "data": {
      "text/plain": [
       "      fun: 1.485624973587636e-11\n",
       " hess_inv: array([[0.48413972, 0.96967239],\n",
       "       [0.96967239, 1.94700032]])\n",
       "      jac: array([-5.27748474e-05,  2.72321667e-05])\n",
       "  message: 'Desired error not necessarily achieved due to precision loss.'\n",
       "     nfev: 222\n",
       "      nit: 42\n",
       "     njev: 70\n",
       "   status: 2\n",
       "  success: False\n",
       "        x: array([0.99999637, 0.99999286])"
      ]
     },
     "execution_count": 10,
     "metadata": {},
     "output_type": "execute_result"
    }
   ],
   "source": [
    "x0 = [3,3];\n",
    "\n",
    "result = minimize(obj, x0);\n",
    "\n",
    "print(result.x)\n",
    "print(result.fun)\n",
    "print(result.success)\n",
    "\n",
    "result # Look at the message to explain the result.success being false"
   ]
  },
  {
   "cell_type": "markdown",
   "metadata": {},
   "source": [
    "# Constrained"
   ]
  },
  {
   "cell_type": "code",
   "execution_count": 14,
   "metadata": {},
   "outputs": [
    {
     "name": "stdout",
     "output_type": "stream",
     "text": [
      "Optimization terminated successfully    (Exit mode 0)\n",
      "            Current function value: 0.04567480135526421\n",
      "            Iterations: 30\n",
      "            Function evaluations: 103\n",
      "            Gradient evaluations: 30\n",
      "[0.78641711 0.61769589]\n",
      "0.04567480135526421\n",
      "True\n"
     ]
    }
   ],
   "source": [
    "def con(x):\n",
    "    g = np.zeros(2)\n",
    "    g[0] = 1 - x[0]**2 - x[1]**2 # Must be greater than or equal to zero in this solver\n",
    "    g[1] = 5 - x[0] - 3*x[1]\n",
    "    return g\n",
    "    \n",
    "constraints = {'type': 'ineq', 'fun': con}\n",
    "options = {'disp': True}\n",
    "\n",
    "result = minimize(obj, x0, constraints = constraints, options = options);\n",
    "\n",
    "print(result.x)\n",
    "print(result.fun)\n",
    "print(result.success)"
   ]
  },
  {
   "cell_type": "code",
   "execution_count": null,
   "metadata": {},
   "outputs": [],
   "source": []
  }
 ],
 "metadata": {
  "kernelspec": {
   "display_name": "Python 3",
   "language": "python",
   "name": "python3"
  },
  "language_info": {
   "codemirror_mode": {
    "name": "ipython",
    "version": 3
   },
   "file_extension": ".py",
   "mimetype": "text/x-python",
   "name": "python",
   "nbconvert_exporter": "python",
   "pygments_lexer": "ipython3",
   "version": "3.8.5"
  },
  "latex_envs": {
   "LaTeX_envs_menu_present": true,
   "autoclose": true,
   "autocomplete": true,
   "bibliofile": "biblio.bib",
   "cite_by": "apalike",
   "current_citInitial": 1,
   "eqLabelWithNumbers": true,
   "eqNumInitial": 1,
   "hotkeys": {
    "equation": "Ctrl-E",
    "itemize": "Ctrl-I"
   },
   "labels_anchors": false,
   "latex_user_defs": false,
   "report_style_numbering": false,
   "user_envs_cfg": false
  },
  "toc": {
   "base_numbering": 1,
   "nav_menu": {},
   "number_sections": true,
   "sideBar": true,
   "skip_h1_title": false,
   "title_cell": "Table of Contents",
   "title_sidebar": "Contents",
   "toc_cell": false,
   "toc_position": {},
   "toc_section_display": true,
   "toc_window_display": false
  },
  "varInspector": {
   "cols": {
    "lenName": 16,
    "lenType": 16,
    "lenVar": 40
   },
   "kernels_config": {
    "python": {
     "delete_cmd_postfix": "",
     "delete_cmd_prefix": "del ",
     "library": "var_list.py",
     "varRefreshCmd": "print(var_dic_list())"
    },
    "r": {
     "delete_cmd_postfix": ") ",
     "delete_cmd_prefix": "rm(",
     "library": "var_list.r",
     "varRefreshCmd": "cat(var_dic_list()) "
    }
   },
   "types_to_exclude": [
    "module",
    "function",
    "builtin_function_or_method",
    "instance",
    "_Feature"
   ],
   "window_display": false
  }
 },
 "nbformat": 4,
 "nbformat_minor": 4
}
